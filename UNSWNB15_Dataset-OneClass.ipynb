{
 "cells": [
  {
   "cell_type": "code",
   "execution_count": 44,
   "metadata": {},
   "outputs": [
    {
     "name": "stdout",
     "output_type": "stream",
     "text": [
      "cuda:0\n"
     ]
    }
   ],
   "source": [
    "import numpy as np\n",
    "import pandas as pd\n",
    "import seaborn as sns\n",
    "from tqdm.notebook import tqdm\n",
    "import matplotlib.pyplot as plt\n",
    "\n",
    "import torch\n",
    "import torch.nn as nn\n",
    "import torch.optim as optim\n",
    "from torch.utils.data import Dataset, DataLoader, WeightedRandomSampler\n",
    "\n",
    "from sklearn.preprocessing import MinMaxScaler    \n",
    "from sklearn.model_selection import train_test_split\n",
    "from sklearn.metrics import confusion_matrix, classification_report\n",
    "\n",
    "device = torch.device(\"cuda:0\" if torch.cuda.is_available() else \"cpu\")\n",
    "\n",
    "print(device)"
   ]
  },
  {
   "cell_type": "code",
   "execution_count": 45,
   "metadata": {},
   "outputs": [],
   "source": [
    "##############\n",
    "## Data Loading + Prepping Stage\n",
    "##############\n",
    "#df = pd.read_csv('/home/mheichler/venv/Datasets/UNSW_NB15_training-set.csv')\n",
    "df = pd.read_csv('C:/Users/Michael/anac_enviro/Datasets/111554_267091_compressed_UNSW_NB15_training-set.csv.zip')\n",
    "df.attack_cat = df.attack_cat.apply(lambda x: 'Normal' if x == 'Normal' else 'Attack')\n",
    "\n",
    "class2idx = {\n",
    "    'Normal':0,\n",
    "    'Attack':1,      \n",
    "}\n",
    "\n",
    "idx2class = {v: k for k, v in class2idx.items()}\n",
    "\n",
    "df['attack_cat'].replace(class2idx, inplace=True)\n",
    "df = df.drop('label', axis = 1)\n",
    "category_col = ['proto', 'service', 'state', 'is_ftp_login', 'is_sm_ips_ports']\n",
    "numerical_col = ['dur', 'spkts', 'dpkts', 'sbytes', 'dbytes', 'rate', 'sttl', 'dttl', 'sload', 'dload', 'sloss', 'dloss', 'sinpkt', 'dinpkt', 'sjit', 'djit', 'swin', 'stcpb', 'dtcpb', 'dwin', 'tcprtt', 'synack', 'ackdat', 'smean', 'dmean', 'trans_depth', 'response_body_len', 'ct_srv_src', 'ct_state_ttl', 'ct_dst_ltm', 'ct_src_dport_ltm', 'ct_dst_sport_ltm', 'ct_dst_src_ltm', 'ct_ftp_cmd', 'ct_flw_http_mthd', 'ct_src_ltm', 'ct_srv_dst']\n",
    "num_feature = df.drop(category_col,axis = 1)\n",
    "\n",
    "X = num_feature.iloc[:, 0:-1]\n",
    "y = num_feature.iloc[:, -1]"
   ]
  },
  {
   "cell_type": "code",
   "execution_count": 46,
   "metadata": {},
   "outputs": [
    {
     "data": {
      "text/html": [
       "<div>\n",
       "<style scoped>\n",
       "    .dataframe tbody tr th:only-of-type {\n",
       "        vertical-align: middle;\n",
       "    }\n",
       "\n",
       "    .dataframe tbody tr th {\n",
       "        vertical-align: top;\n",
       "    }\n",
       "\n",
       "    .dataframe thead th {\n",
       "        text-align: right;\n",
       "    }\n",
       "</style>\n",
       "<table border=\"1\" class=\"dataframe\">\n",
       "  <thead>\n",
       "    <tr style=\"text-align: right;\">\n",
       "      <th></th>\n",
       "      <th>id</th>\n",
       "      <th>dur</th>\n",
       "      <th>spkts</th>\n",
       "      <th>dpkts</th>\n",
       "      <th>sbytes</th>\n",
       "      <th>dbytes</th>\n",
       "      <th>rate</th>\n",
       "      <th>sttl</th>\n",
       "      <th>dttl</th>\n",
       "      <th>sload</th>\n",
       "      <th>...</th>\n",
       "      <th>ct_srv_src</th>\n",
       "      <th>ct_state_ttl</th>\n",
       "      <th>ct_dst_ltm</th>\n",
       "      <th>ct_src_dport_ltm</th>\n",
       "      <th>ct_dst_sport_ltm</th>\n",
       "      <th>ct_dst_src_ltm</th>\n",
       "      <th>ct_ftp_cmd</th>\n",
       "      <th>ct_flw_http_mthd</th>\n",
       "      <th>ct_src_ltm</th>\n",
       "      <th>ct_srv_dst</th>\n",
       "    </tr>\n",
       "  </thead>\n",
       "  <tbody>\n",
       "    <tr>\n",
       "      <th>0</th>\n",
       "      <td>1</td>\n",
       "      <td>0.000011</td>\n",
       "      <td>2</td>\n",
       "      <td>0</td>\n",
       "      <td>496</td>\n",
       "      <td>0</td>\n",
       "      <td>90909.0902</td>\n",
       "      <td>254</td>\n",
       "      <td>0</td>\n",
       "      <td>180363632.0</td>\n",
       "      <td>...</td>\n",
       "      <td>2</td>\n",
       "      <td>2</td>\n",
       "      <td>1</td>\n",
       "      <td>1</td>\n",
       "      <td>1</td>\n",
       "      <td>2</td>\n",
       "      <td>0</td>\n",
       "      <td>0</td>\n",
       "      <td>1</td>\n",
       "      <td>2</td>\n",
       "    </tr>\n",
       "    <tr>\n",
       "      <th>1</th>\n",
       "      <td>2</td>\n",
       "      <td>0.000008</td>\n",
       "      <td>2</td>\n",
       "      <td>0</td>\n",
       "      <td>1762</td>\n",
       "      <td>0</td>\n",
       "      <td>125000.0003</td>\n",
       "      <td>254</td>\n",
       "      <td>0</td>\n",
       "      <td>881000000.0</td>\n",
       "      <td>...</td>\n",
       "      <td>2</td>\n",
       "      <td>2</td>\n",
       "      <td>1</td>\n",
       "      <td>1</td>\n",
       "      <td>1</td>\n",
       "      <td>2</td>\n",
       "      <td>0</td>\n",
       "      <td>0</td>\n",
       "      <td>1</td>\n",
       "      <td>2</td>\n",
       "    </tr>\n",
       "    <tr>\n",
       "      <th>2</th>\n",
       "      <td>3</td>\n",
       "      <td>0.000005</td>\n",
       "      <td>2</td>\n",
       "      <td>0</td>\n",
       "      <td>1068</td>\n",
       "      <td>0</td>\n",
       "      <td>200000.0051</td>\n",
       "      <td>254</td>\n",
       "      <td>0</td>\n",
       "      <td>854400000.0</td>\n",
       "      <td>...</td>\n",
       "      <td>3</td>\n",
       "      <td>2</td>\n",
       "      <td>1</td>\n",
       "      <td>1</td>\n",
       "      <td>1</td>\n",
       "      <td>3</td>\n",
       "      <td>0</td>\n",
       "      <td>0</td>\n",
       "      <td>1</td>\n",
       "      <td>3</td>\n",
       "    </tr>\n",
       "    <tr>\n",
       "      <th>3</th>\n",
       "      <td>4</td>\n",
       "      <td>0.000006</td>\n",
       "      <td>2</td>\n",
       "      <td>0</td>\n",
       "      <td>900</td>\n",
       "      <td>0</td>\n",
       "      <td>166666.6608</td>\n",
       "      <td>254</td>\n",
       "      <td>0</td>\n",
       "      <td>600000000.0</td>\n",
       "      <td>...</td>\n",
       "      <td>3</td>\n",
       "      <td>2</td>\n",
       "      <td>2</td>\n",
       "      <td>2</td>\n",
       "      <td>1</td>\n",
       "      <td>3</td>\n",
       "      <td>0</td>\n",
       "      <td>0</td>\n",
       "      <td>2</td>\n",
       "      <td>3</td>\n",
       "    </tr>\n",
       "    <tr>\n",
       "      <th>4</th>\n",
       "      <td>5</td>\n",
       "      <td>0.000010</td>\n",
       "      <td>2</td>\n",
       "      <td>0</td>\n",
       "      <td>2126</td>\n",
       "      <td>0</td>\n",
       "      <td>100000.0025</td>\n",
       "      <td>254</td>\n",
       "      <td>0</td>\n",
       "      <td>850400000.0</td>\n",
       "      <td>...</td>\n",
       "      <td>3</td>\n",
       "      <td>2</td>\n",
       "      <td>2</td>\n",
       "      <td>2</td>\n",
       "      <td>1</td>\n",
       "      <td>3</td>\n",
       "      <td>0</td>\n",
       "      <td>0</td>\n",
       "      <td>2</td>\n",
       "      <td>3</td>\n",
       "    </tr>\n",
       "  </tbody>\n",
       "</table>\n",
       "<p>5 rows × 38 columns</p>\n",
       "</div>"
      ],
      "text/plain": [
       "   id       dur  spkts  dpkts  sbytes  dbytes         rate  sttl  dttl  \\\n",
       "0   1  0.000011      2      0     496       0   90909.0902   254     0   \n",
       "1   2  0.000008      2      0    1762       0  125000.0003   254     0   \n",
       "2   3  0.000005      2      0    1068       0  200000.0051   254     0   \n",
       "3   4  0.000006      2      0     900       0  166666.6608   254     0   \n",
       "4   5  0.000010      2      0    2126       0  100000.0025   254     0   \n",
       "\n",
       "         sload  ...  ct_srv_src  ct_state_ttl  ct_dst_ltm  ct_src_dport_ltm  \\\n",
       "0  180363632.0  ...           2             2           1                 1   \n",
       "1  881000000.0  ...           2             2           1                 1   \n",
       "2  854400000.0  ...           3             2           1                 1   \n",
       "3  600000000.0  ...           3             2           2                 2   \n",
       "4  850400000.0  ...           3             2           2                 2   \n",
       "\n",
       "   ct_dst_sport_ltm  ct_dst_src_ltm  ct_ftp_cmd  ct_flw_http_mthd  ct_src_ltm  \\\n",
       "0                 1               2           0                 0           1   \n",
       "1                 1               2           0                 0           1   \n",
       "2                 1               3           0                 0           1   \n",
       "3                 1               3           0                 0           2   \n",
       "4                 1               3           0                 0           2   \n",
       "\n",
       "   ct_srv_dst  \n",
       "0           2  \n",
       "1           2  \n",
       "2           3  \n",
       "3           3  \n",
       "4           3  \n",
       "\n",
       "[5 rows x 38 columns]"
      ]
     },
     "execution_count": 46,
     "metadata": {},
     "output_type": "execute_result"
    }
   ],
   "source": [
    "X.head()"
   ]
  },
  {
   "cell_type": "code",
   "execution_count": 47,
   "metadata": {},
   "outputs": [],
   "source": [
    "##############\n",
    "## Unsupervised: Only training with normal data\n",
    "##############\n",
    "X_train = num_feature[num_feature.attack_cat==0].sample(10000)\n",
    "y_train = X_train.iloc[:, -1]\n",
    "X_train = X_train.drop('attack_cat', axis = 1)\n",
    "\n",
    "##############\n",
    "## Split into train+val and test\n",
    "##############\n",
    "\n",
    "X_val, X_test, y_val, y_test = train_test_split(X, y, test_size=0.2, stratify=y, random_state=42)"
   ]
  },
  {
   "cell_type": "code",
   "execution_count": 48,
   "metadata": {},
   "outputs": [],
   "source": [
    "##############\n",
    "## Min/Max Scaling\n",
    "##############\n",
    "\n",
    "scaler = MinMaxScaler()\n",
    "X_train = scaler.fit_transform(X_train)\n",
    "X_val = scaler.transform(X_val)\n",
    "X_test = scaler.transform(X_test)\n",
    "\n",
    "X_train, y_train = np.array(X_train), np.array(y_train)\n",
    "X_val, y_val = np.array(X_val), np.array(y_val)\n",
    "X_test, y_test = np.array(X_test), np.array(y_test)"
   ]
  },
  {
   "cell_type": "code",
   "execution_count": 49,
   "metadata": {},
   "outputs": [
    {
     "data": {
      "text/plain": [
       "Text(0.5, 1.0, 'Class Distribution in Test Set')"
      ]
     },
     "execution_count": 49,
     "metadata": {},
     "output_type": "execute_result"
    },
    {
     "data": {
      "image/png": "[encoded data removed]",
      "text/plain": [
       "<Figure size 1800x504 with 3 Axes>"
      ]
     },
     "metadata": {
      "needs_background": "light"
     },
     "output_type": "display_data"
    }
   ],
   "source": [
    "def get_class_distribution(obj):\n",
    "    count_dict = {\n",
    "        'Normal':0,\n",
    "        'Attack':1,        \n",
    "    }\n",
    "    \n",
    "    for i in obj:\n",
    "        if i == 0: \n",
    "            count_dict['Normal'] += 1\n",
    "        elif i == 1: \n",
    "            count_dict['Attack'] += 1        \n",
    "        else:\n",
    "            print(\"Check classes.\")\n",
    "            \n",
    "    return count_dict\n",
    "\n",
    "fig, axes = plt.subplots(nrows=1, ncols=3, figsize=(25,7))# Train\n",
    "sns.barplot(data = pd.DataFrame.from_dict([get_class_distribution(y_train)]).melt(), x = \"variable\", y=\"value\", hue=\"variable\",  ax=axes[0]).set_title('Class Distribution in Train Set')# Validation\n",
    "sns.barplot(data = pd.DataFrame.from_dict([get_class_distribution(y_val)]).melt(), x = \"variable\", y=\"value\", hue=\"variable\",  ax=axes[1]).set_title('Class Distribution in Val Set')# Test\n",
    "sns.barplot(data = pd.DataFrame.from_dict([get_class_distribution(y_test)]).melt(), x = \"variable\", y=\"value\", hue=\"variable\",  ax=axes[2]).set_title('Class Distribution in Test Set')"
   ]
  },
  {
   "cell_type": "code",
   "execution_count": 50,
   "metadata": {},
   "outputs": [],
   "source": [
    "X_train = np.pad(X_train, ((0, 0), (0, 64 - len(X_train[0]))), 'constant').reshape(-1, 1, 8, 8)\n",
    "X_val = np.pad(X_val, ((0, 0), (0, 64 - len(X_val[0]))), 'constant').reshape(-1, 1, 8, 8)\n",
    "X_test = np.pad(X_test, ((0, 0), (0, 64 - len(X_test[0]))), 'constant').reshape(-1, 1, 8, 8)"
   ]
  },
  {
   "cell_type": "code",
   "execution_count": 51,
   "metadata": {},
   "outputs": [],
   "source": [
    "class ClassifierDataset(Dataset):\n",
    "    \n",
    "    def __init__(self, X_data, y_data):\n",
    "        self.X_data = X_data\n",
    "        self.y_data = y_data\n",
    "        \n",
    "    def __getitem__(self, index):\n",
    "        return self.X_data[index], self.y_data[index], index\n",
    "        \n",
    "    def __len__ (self):\n",
    "        return len(self.X_data)\n",
    "\n",
    "\n",
    "train_dataset = ClassifierDataset(torch.from_numpy(X_train).float(), torch.from_numpy(y_train).long())\n",
    "val_dataset = ClassifierDataset(torch.from_numpy(X_val).float(), torch.from_numpy(y_val).long())\n",
    "test_dataset = ClassifierDataset(torch.from_numpy(X_test).float(), torch.from_numpy(y_test).long())"
   ]
  },
  {
   "cell_type": "code",
   "execution_count": 52,
   "metadata": {},
   "outputs": [],
   "source": [
    "EPOCHS = 50\n",
    "BATCH_SIZE = 32\n",
    "LEARNING_RATE = 1e-3\n",
    "NUM_FEATURES = len(X.columns)\n",
    "NUM_CLASSES = 1\n",
    "nu = 0.1\n",
    "\n",
    "test_auc = None\n",
    "test_scores = None"
   ]
  },
  {
   "cell_type": "code",
   "execution_count": 53,
   "metadata": {},
   "outputs": [],
   "source": [
    "train_loader = DataLoader(dataset=train_dataset,\n",
    "                          batch_size=BATCH_SIZE\n",
    ")\n",
    "\n",
    "val_loader = DataLoader(dataset=val_dataset, batch_size=BATCH_SIZE)\n",
    "\n",
    "test_loader = DataLoader(dataset=test_dataset, batch_size=BATCH_SIZE)"
   ]
  },
  {
   "cell_type": "code",
   "execution_count": 54,
   "metadata": {},
   "outputs": [],
   "source": [
    "class CNN(nn.Module):\n",
    "    def __init__(self, num_feature, num_class):\n",
    "        super(CNN, self).__init__()\n",
    "\n",
    "        self.conv = nn.Sequential(\n",
    "            nn.Conv2d(1, 6, 3, stride=1, padding=1),\n",
    "            nn.BatchNorm2d(6),\n",
    "            nn.ReLU(True),\n",
    "            nn.Conv2d(6, 16, 3, stride=1, padding=0),\n",
    "            nn.BatchNorm2d(16),\n",
    "            nn.ReLU(True),\n",
    "            nn.MaxPool2d(2, 2)\n",
    "        )\n",
    "\n",
    "        self.fc = nn.Sequential(\n",
    "            nn.Linear(144, 512),\n",
    "            nn.Linear(512, 256),\n",
    "            nn.Linear(256, num_class)\n",
    "        )\n",
    "\n",
    "    def forward(self, x):\n",
    "        out = self.conv(x)\n",
    "        out = out.view(out.size(0), -1)\n",
    "        out = self.fc(out)\n",
    "        return out\n",
    "    \n",
    "    def load(self, model_path):\n",
    "        self.load_state_dict(torch.load(model_path))\n",
    "        self.eval()\n",
    "\n",
    "    def predict(self, dataset):\n",
    "        dist = torch.sum((y_test_pred - c)**2, dim=1)\n",
    "        outputs = self(dataset)\n",
    "        _, predicted = torch.max(outputs, 1)\n",
    "        return predicted"
   ]
  },
  {
   "cell_type": "code",
   "execution_count": 55,
   "metadata": {},
   "outputs": [
    {
     "name": "stdout",
     "output_type": "stream",
     "text": [
      "CNN(\n",
      "  (conv): Sequential(\n",
      "    (0): Conv2d(1, 6, kernel_size=(3, 3), stride=(1, 1), padding=(1, 1))\n",
      "    (1): BatchNorm2d(6, eps=1e-05, momentum=0.1, affine=True, track_running_stats=True)\n",
      "    (2): ReLU(inplace=True)\n",
      "    (3): Conv2d(6, 16, kernel_size=(3, 3), stride=(1, 1))\n",
      "    (4): BatchNorm2d(16, eps=1e-05, momentum=0.1, affine=True, track_running_stats=True)\n",
      "    (5): ReLU(inplace=True)\n",
      "    (6): MaxPool2d(kernel_size=2, stride=2, padding=0, dilation=1, ceil_mode=False)\n",
      "  )\n",
      "  (fc): Sequential(\n",
      "    (0): Linear(in_features=144, out_features=512, bias=True)\n",
      "    (1): Linear(in_features=512, out_features=256, bias=True)\n",
      "    (2): Linear(in_features=256, out_features=1, bias=True)\n",
      "  )\n",
      ")\n"
     ]
    }
   ],
   "source": [
    "model = CNN(num_feature = NUM_FEATURES, num_class=NUM_CLASSES)\n",
    "model.to(device)\n",
    "\n",
    "criterion = nn.BCEWithLogitsLoss()\n",
    "optimizer = optim.SGD(model.parameters(), lr=LEARNING_RATE)\n",
    "\n",
    "print(model)"
   ]
  },
  {
   "cell_type": "code",
   "execution_count": 56,
   "metadata": {},
   "outputs": [],
   "source": [
    "def init_center_c(dataloader,net,eps=0.1):\n",
    "    n_samples = 0\n",
    "    c = torch.zeros(NUM_CLASSES, device='cuda')\n",
    "    \n",
    "    model.eval()\n",
    "    with torch.no_grad():\n",
    "        for data, _, _ in train_loader:\n",
    "            inputs = data.to(device)\n",
    "            outputs = model(inputs)\n",
    "            n_samples += outputs.shape[0]\n",
    "            c += torch.sum(outputs, dim=0)    \n",
    "    \n",
    "    c /= n_samples\n",
    "    print(c)\n",
    "    c[(abs(c) < eps) & (c < 0)] = -eps\n",
    "    c[(abs(c) < eps) & (c > 0)] = eps\n",
    "\n",
    "    return c"
   ]
  },
  {
   "cell_type": "code",
   "execution_count": 57,
   "metadata": {},
   "outputs": [],
   "source": [
    "def get_radius(dist, nu):\n",
    "    return np.quantile(np.sqrt(dist.clone().data.cpu()), 1 - nu)\n",
    "\n",
    "R = 0\n",
    "R = torch.tensor(R, device='cuda')"
   ]
  },
  {
   "cell_type": "code",
   "execution_count": 58,
   "metadata": {},
   "outputs": [
    {
     "name": "stdout",
     "output_type": "stream",
     "text": [
      "tensor([0.0142], device='cuda:0')\n"
     ]
    }
   ],
   "source": [
    "c = init_center_c(train_loader, model)"
   ]
  },
  {
   "cell_type": "code",
   "execution_count": 59,
   "metadata": {},
   "outputs": [],
   "source": [
    "accuracy_stats = {\n",
    "    'train': [],\n",
    "    \"val\": []\n",
    "}\n",
    "loss_stats = {\n",
    "    'train': [],\n",
    "    \"val\": []\n",
    "}"
   ]
  },
  {
   "cell_type": "code",
   "execution_count": 60,
   "metadata": {},
   "outputs": [
    {
     "name": "stdout",
     "output_type": "stream",
     "text": [
      "Begin training.\n"
     ]
    },
    {
     "data": {
      "application/vnd.jupyter.widget-view+json": {
       "model_id": "5b25b3ae970b4db9afe40e3c59ce4b74",
       "version_major": 2,
       "version_minor": 0
      },
      "text/plain": [
       "HBox(children=(FloatProgress(value=0.0, max=50.0), HTML(value='')))"
      ]
     },
     "metadata": {},
     "output_type": "display_data"
    },
    {
     "name": "stdout",
     "output_type": "stream",
     "text": [
      "Epoch 001: | Train Loss: 0.00066 | Val Loss: 0.00948\n",
      "Epoch 002: | Train Loss: 0.00022 | Val Loss: 0.00366\n",
      "Epoch 003: | Train Loss: 0.00014 | Val Loss: 0.00212\n",
      "Epoch 004: | Train Loss: 0.00011 | Val Loss: 0.00156\n",
      "Epoch 005: | Train Loss: 0.00009 | Val Loss: 0.00130\n",
      "Epoch 006: | Train Loss: 0.00008 | Val Loss: 0.00114\n",
      "Epoch 007: | Train Loss: 0.00007 | Val Loss: 0.00104\n",
      "Epoch 008: | Train Loss: 0.00007 | Val Loss: 0.00097\n",
      "Epoch 009: | Train Loss: 0.00006 | Val Loss: 0.00094\n",
      "Epoch 010: | Train Loss: 0.00006 | Val Loss: 0.00092\n",
      "Epoch 011: | Train Loss: 0.00005 | Val Loss: 0.00091\n",
      "Epoch 012: | Train Loss: 0.00005 | Val Loss: 0.00092\n",
      "Epoch 013: | Train Loss: 0.00005 | Val Loss: 0.00092\n",
      "Epoch 014: | Train Loss: 0.00005 | Val Loss: 0.00094\n",
      "Epoch 015: | Train Loss: 0.00004 | Val Loss: 0.00095\n",
      "Epoch 016: | Train Loss: 0.00004 | Val Loss: 0.00096\n",
      "Epoch 017: | Train Loss: 0.00004 | Val Loss: 0.00097\n",
      "Epoch 018: | Train Loss: 0.00004 | Val Loss: 0.00098\n",
      "Epoch 019: | Train Loss: 0.00004 | Val Loss: 0.00099\n",
      "Epoch 020: | Train Loss: 0.00004 | Val Loss: 0.00100\n",
      "Epoch 021: | Train Loss: 0.00003 | Val Loss: 0.00100\n",
      "Epoch 022: | Train Loss: 0.00003 | Val Loss: 0.00101\n",
      "Epoch 023: | Train Loss: 0.00003 | Val Loss: 0.00101\n",
      "Epoch 024: | Train Loss: 0.00003 | Val Loss: 0.00102\n",
      "Epoch 025: | Train Loss: 0.00003 | Val Loss: 0.00102\n",
      "Epoch 026: | Train Loss: 0.00003 | Val Loss: 0.00102\n",
      "Epoch 027: | Train Loss: 0.00003 | Val Loss: 0.00102\n",
      "Epoch 028: | Train Loss: 0.00003 | Val Loss: 0.00102\n",
      "Epoch 029: | Train Loss: 0.00003 | Val Loss: 0.00102\n",
      "Epoch 030: | Train Loss: 0.00003 | Val Loss: 0.00102\n",
      "Epoch 031: | Train Loss: 0.00003 | Val Loss: 0.00101\n",
      "Epoch 032: | Train Loss: 0.00003 | Val Loss: 0.00101\n",
      "Epoch 033: | Train Loss: 0.00002 | Val Loss: 0.00101\n",
      "Epoch 034: | Train Loss: 0.00002 | Val Loss: 0.00100\n",
      "Epoch 035: | Train Loss: 0.00002 | Val Loss: 0.00100\n",
      "Epoch 036: | Train Loss: 0.00002 | Val Loss: 0.00099\n",
      "Epoch 037: | Train Loss: 0.00002 | Val Loss: 0.00099\n",
      "Epoch 038: | Train Loss: 0.00002 | Val Loss: 0.00098\n",
      "Epoch 039: | Train Loss: 0.00002 | Val Loss: 0.00098\n",
      "Epoch 040: | Train Loss: 0.00002 | Val Loss: 0.00097\n",
      "Epoch 041: | Train Loss: 0.00002 | Val Loss: 0.00096\n",
      "Epoch 042: | Train Loss: 0.00002 | Val Loss: 0.00096\n",
      "Epoch 043: | Train Loss: 0.00002 | Val Loss: 0.00095\n",
      "Epoch 044: | Train Loss: 0.00002 | Val Loss: 0.00094\n",
      "Epoch 045: | Train Loss: 0.00002 | Val Loss: 0.00094\n",
      "Epoch 046: | Train Loss: 0.00002 | Val Loss: 0.00093\n",
      "Epoch 047: | Train Loss: 0.00002 | Val Loss: 0.00092\n",
      "Epoch 048: | Train Loss: 0.00002 | Val Loss: 0.00092\n",
      "Epoch 049: | Train Loss: 0.00002 | Val Loss: 0.00091\n",
      "Epoch 050: | Train Loss: 0.00002 | Val Loss: 0.00090\n",
      "\n"
     ]
    }
   ],
   "source": [
    "print(\"Begin training.\")\n",
    "\n",
    "for e in tqdm(range(1, EPOCHS+1)):\n",
    "    \n",
    "    # TRAINING\n",
    "    n_batches = 0\n",
    "    n_batches_val = 0\n",
    "    train_epoch_loss = 0\n",
    "    train_epoch_acc = 0\n",
    "    model.train()\n",
    "    \n",
    "    for data in train_loader:\n",
    "        inputs, _, _ = data\n",
    "        inputs = inputs.to(device)\n",
    "        optimizer.zero_grad()        \n",
    "        y_train_pred = model(inputs)       \n",
    "        dist = torch.sum((y_train_pred - c) ** 2, dim=1)       \n",
    "        \n",
    "        train_loss = torch.mean(dist)\n",
    "        \n",
    "        train_loss.backward()\n",
    "        optimizer.step()\n",
    "        \n",
    "        train_epoch_loss += train_loss.item()\n",
    "        \n",
    "        n_batches += 1\n",
    "        \n",
    "    # VALIDATION    \n",
    "    with torch.no_grad():\n",
    "        \n",
    "        val_epoch_loss = 0\n",
    "        val_epoch_acc = 0\n",
    "        \n",
    "        model.eval()\n",
    "        for data in val_loader:\n",
    "            inputs, label, _ = data\n",
    "            inputs = inputs.to(device) \n",
    "            y_val_pred = model(inputs) \n",
    "            \n",
    "            dist_val = torch.sum((y_val_pred - c) ** 2, dim=1)             \n",
    "            val_loss = torch.mean(dist_val)    \n",
    "        \n",
    "            val_epoch_loss += val_loss.item()\n",
    "        \n",
    "            n_batches += 1\n",
    "        \n",
    "    loss_stats['train'].append(train_epoch_loss/len(train_loader)) \n",
    "    loss_stats['val'].append(val_epoch_loss/len(val_loader))\n",
    "    \n",
    "    print(f'Epoch {e+0:03}: | Train Loss: {train_epoch_loss/n_batches:.5f} | Val Loss: {val_epoch_loss/len(val_loader):.5f}')"
   ]
  },
  {
   "cell_type": "code",
   "execution_count": 61,
   "metadata": {},
   "outputs": [],
   "source": [
    "test_auc = None\n",
    "idx_label_score = []\n",
    "with torch.no_grad():\n",
    "    model.eval()\n",
    "    for data in test_loader:\n",
    "        inputs, labels, idx = data\n",
    "        inputs = inputs.to(device)\n",
    "        y_test_pred = model(inputs)\n",
    "        dist = torch.sum((y_test_pred - c)**2, dim=1)\n",
    "        scores_fin = dist\n",
    "                \n",
    "        idx_label_score += list(zip(idx.cpu().data.numpy().tolist(),\n",
    "                                    labels.cpu().data.numpy().tolist(),\n",
    "                                    scores_fin.cpu().data.numpy().tolist()))"
   ]
  },
  {
   "cell_type": "code",
   "execution_count": 62,
   "metadata": {},
   "outputs": [],
   "source": [
    "test_scores = idx_label_score"
   ]
  },
  {
   "cell_type": "code",
   "execution_count": 63,
   "metadata": {},
   "outputs": [],
   "source": [
    "_, labels, scores = zip(*idx_label_score)\n",
    "labels = np.array(labels)\n",
    "scores = np.array(scores)"
   ]
  },
  {
   "cell_type": "code",
   "execution_count": 64,
   "metadata": {},
   "outputs": [
    {
     "name": "stdout",
     "output_type": "stream",
     "text": [
      "[[   0 7400]\n",
      " [   1 9067]]\n"
     ]
    }
   ],
   "source": [
    "(unique, counts) = np.unique(labels, return_counts=True)\n",
    "freq_test = np.asarray((unique, counts)).T\n",
    "print(freq_test)"
   ]
  },
  {
   "cell_type": "code",
   "execution_count": 65,
   "metadata": {},
   "outputs": [
    {
     "name": "stdout",
     "output_type": "stream",
     "text": [
      "Test set AUC: 71.06%\n"
     ]
    }
   ],
   "source": [
    "from sklearn.metrics import roc_auc_score\n",
    "test_auc = roc_auc_score(labels, scores)\n",
    "print('Test set AUC: {:.2f}%'.format(100. * test_auc))"
   ]
  },
  {
   "cell_type": "code",
   "execution_count": 66,
   "metadata": {},
   "outputs": [
    {
     "name": "stdout",
     "output_type": "stream",
     "text": [
      "0.7106485055696482\n"
     ]
    },
    {
     "data": {
      "image/png": "[encoded data removed]",
      "text/plain": [
       "<Figure size 432x288 with 1 Axes>"
      ]
     },
     "metadata": {
      "needs_background": "light"
     },
     "output_type": "display_data"
    }
   ],
   "source": [
    "import matplotlib.pyplot as plt\n",
    "from sklearn.metrics import roc_curve, auc\n",
    "fpr = dict()\n",
    "tpr = dict()\n",
    "roc_auc = dict()\n",
    "for i in range(2):\n",
    "    fpr[i], tpr[i], _ = roc_curve(labels, scores)\n",
    "    roc_auc[i] = auc(fpr[i], tpr[i])\n",
    "\n",
    "print (roc_auc_score(labels, scores))\n",
    "plt.figure()\n",
    "plt.plot(fpr[1], tpr[1])\n",
    "plt.xlim([0.0, 1.0])\n",
    "plt.ylim([0.0, 1.05])\n",
    "plt.xlabel('False Positive Rate')\n",
    "plt.ylabel('True Positive Rate')\n",
    "plt.title('Receiver operating characteristic')\n",
    "plt.show()"
   ]
  },
  {
   "cell_type": "code",
   "execution_count": 23,
   "metadata": {},
   "outputs": [],
   "source": [
    "torch.save(model.state_dict(), \"unsw_nb15\")\n",
    "model.load(\"unsw_nb15\")"
   ]
  },
  {
   "cell_type": "code",
   "execution_count": 41,
   "metadata": {},
   "outputs": [],
   "source": [
    "#df_test = pd.read_csv('/home/mheichler/venv/Datasets/UNSW_NB15_testing-set.csv')\n",
    "#df_test = pd.read_csv('C:/Users/Michael/anac_enviro/Datasets/111554_267091_compressed_UNSW_NB15_testing-set.csv')\n",
    "df_test = pd.read_csv('C:/Users/Michael/anac_enviro/Datasets/UNSW_NB15_testing-set.csv')\n",
    "\n",
    "df_test = df_test.drop('attack_cat', axis = 1)\n",
    "pred_label = df_test.label\n",
    "pred_label = pred_label.to_numpy()\n",
    "df_test = df_test.drop('label', axis = 1)\n",
    "num_feature_test = df_test.drop(category_col,axis = 1)\n",
    "numeric_dataset = scaler.fit_transform(num_feature_test)\n",
    "numeric_dataset = np.array(numeric_dataset)\n",
    "numeric_dataset = np.pad(numeric_dataset, ((0, 0), (0, 64 - len(numeric_dataset[0]))), 'constant').reshape(-1, 1, 8, 8)\n",
    "numeeric_tensor = ClassifierDataset(torch.from_numpy(numeric_dataset).float(), torch.from_numpy(pred_label).long())\n",
    "#numeric_tensor = torch.from_numpy(numeric_dataset).float().to(device)\n",
    "pred_loader = DataLoader(dataset=numeric_tensor, batch_size=BATCH_SIZE)\n",
    "model.eval()\n",
    "for data in pred_loader:\n",
    "        inputs = data\n",
    "        inputs = inputs.to(device)\n",
    "        y_test_pred = model(inputs)\n",
    "        dist = torch.sum((y_test_pred - c)**2, dim=1)\n",
    "        score_pred = dist\n",
    "        \n",
    "        pred_label = score_pred.cpu().data.numpy().tolist()"
   ]
  },
  {
   "cell_type": "code",
   "execution_count": 42,
   "metadata": {},
   "outputs": [
    {
     "data": {
      "text/plain": [
       "[4.144192280364223e-05,\n",
       " 4.7452991566387936e-05,\n",
       " 3.3510971206851536e-06,\n",
       " 1.3102352340865764e-06,\n",
       " 1.5068977177179477e-08,\n",
       " 1.6209782188525423e-05,\n",
       " 1.8150169125874527e-05,\n",
       " 2.6628486011759378e-05,\n",
       " 3.835478128166869e-05,\n",
       " 4.5093023004483257e-07,\n",
       " 3.5310299608681817e-06,\n",
       " 0.00030858436366543174,\n",
       " 0.0003241533995606005,\n",
       " 4.239558256813325e-05,\n",
       " 3.879559358210827e-07,\n",
       " 4.9176534957950935e-05,\n",
       " 1.709574206643083e-07,\n",
       " 0.0003085791249759495,\n",
       " 2.4987546112242853e-06,\n",
       " 4.403117054607719e-05,\n",
       " 2.6932650598610053e-06,\n",
       " 1.7105601557432237e-07,\n",
       " 4.514106421993347e-07,\n",
       " 3.3063749924622243e-06,\n",
       " 5.302985664457083e-05,\n",
       " 4.138827534916345e-06,\n",
       " 4.139251814194722e-06,\n",
       " 4.516109015639813e-07]"
      ]
     },
     "execution_count": 42,
     "metadata": {},
     "output_type": "execute_result"
    }
   ],
   "source": [
    "pred_label"
   ]
  },
  {
   "cell_type": "code",
   "execution_count": null,
   "metadata": {},
   "outputs": [],
   "source": [
    "(unique, counts) = np.unique(pred_scores, return_counts=True)\n",
    "freq_pred = np.asarray((unique, counts)).T\n",
    "print(freq_pred)"
   ]
  },
  {
   "cell_type": "code",
   "execution_count": 29,
   "metadata": {},
   "outputs": [
    {
     "data": {
      "text/plain": [
       "array(<zip object at 0x000002248498C100>, dtype=object)"
      ]
     },
     "execution_count": 29,
     "metadata": {},
     "output_type": "execute_result"
    }
   ],
   "source": [
    "pred_scores"
   ]
  },
  {
   "cell_type": "code",
   "execution_count": null,
   "metadata": {},
   "outputs": [],
   "source": [
    "pre_numpy = predicted.detach().numpy()"
   ]
  },
  {
   "cell_type": "code",
   "execution_count": null,
   "metadata": {},
   "outputs": [],
   "source": [
    "(unique, counts) = np.unique(pre_numpy, return_counts=True)\n",
    "frequencies = np.asarray((unique, counts)).T"
   ]
  },
  {
   "cell_type": "code",
   "execution_count": null,
   "metadata": {},
   "outputs": [],
   "source": [
    "print(frequencies)"
   ]
  },
  {
   "cell_type": "code",
   "execution_count": null,
   "metadata": {},
   "outputs": [],
   "source": [
    "#df_test2 = pd.read_csv('/home/mheichler/venv/Datasets/UNSW_NB15_testing-set.csv')\n",
    "df_test2 = pd.read_csv('C:/Users/Michael/anac_enviro/Datasets/111554_267091_compressed_UNSW_NB15_testing-set.csv.zip')\n",
    "df_test2['attack_cat'].replace(class2idx, inplace=True)\n",
    "result = pd.DataFrame(data={'Id': df_test2['id'], 'attack_cat': df_test2['attack_cat'], 'predict': predicted})\n",
    "result.to_csv(path_or_buf='submittion.csv', index = False, header = True)"
   ]
  },
  {
   "cell_type": "code",
   "execution_count": null,
   "metadata": {},
   "outputs": [],
   "source": [
    "sns.catplot(y=\"attack_cat\", hue=\"predict\", kind=\"count\",\n",
    "            palette=\"pastel\", edgecolor=\".6\",\n",
    "            data=result);"
   ]
  },
  {
   "cell_type": "code",
   "execution_count": null,
   "metadata": {},
   "outputs": [],
   "source": [
    "result.predict.unique()"
   ]
  },
  {
   "cell_type": "code",
   "execution_count": null,
   "metadata": {},
   "outputs": [],
   "source": [
    "result.attack_cat.unique()"
   ]
  },
  {
   "cell_type": "code",
   "execution_count": null,
   "metadata": {},
   "outputs": [],
   "source": [
    "result.Id.count()"
   ]
  }
 ],
 "metadata": {
  "kernelspec": {
   "display_name": "Python 3",
   "language": "python",
   "name": "python3"
  },
  "language_info": {
   "codemirror_mode": {
    "name": "ipython",
    "version": 3
   },
   "file_extension": ".py",
   "mimetype": "text/x-python",
   "name": "python",
   "nbconvert_exporter": "python",
   "pygments_lexer": "ipython3",
   "version": "3.8.3"
  }
 },
 "nbformat": 4,
 "nbformat_minor": 4
}
